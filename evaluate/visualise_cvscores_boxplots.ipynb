{
 "cells": [
  {
   "cell_type": "markdown",
   "id": "19f83873",
   "metadata": {},
   "source": [
    "# Visualise Scores"
   ]
  },
  {
   "cell_type": "code",
   "execution_count": 1,
   "id": "2e607f83",
   "metadata": {},
   "outputs": [],
   "source": [
    "import os\n",
    "import re\n",
    "import pandas as pd\n",
    "import seaborn as sns\n",
    "import matplotlib.pyplot as plt\n",
    "\n",
    "plt.rcParams.update({'font.size': 12})"
   ]
  },
  {
   "cell_type": "code",
   "execution_count": 2,
   "id": "2da24400",
   "metadata": {},
   "outputs": [],
   "source": [
    "def change_labels(old_labels):\n",
    "    new_labels = [item.get_text() for item in old_labels]\n",
    "    for i, l in enumerate(new_labels):\n",
    "        if ('_ce') in l:\n",
    "            new_labels[i] = 'CE'\n",
    "        elif ('_fce') in l:\n",
    "            new_labels[i] = 'FCE'\n",
    "        elif ('_iou') in l:\n",
    "            new_labels[i] = '$L_{\\mathrm{IoU}}$'\n",
    "        if ('bn_') in l:\n",
    "            new_labels[i] = new_labels[i] + '+BN'\n",
    "    return new_labels"
   ]
  },
  {
   "cell_type": "code",
   "execution_count": 3,
   "id": "7970ea9b",
   "metadata": {},
   "outputs": [
    {
     "data": {
      "text/html": [
       "<div>\n",
       "<style scoped>\n",
       "    .dataframe tbody tr th:only-of-type {\n",
       "        vertical-align: middle;\n",
       "    }\n",
       "\n",
       "    .dataframe tbody tr th {\n",
       "        vertical-align: top;\n",
       "    }\n",
       "\n",
       "    .dataframe thead th {\n",
       "        text-align: right;\n",
       "    }\n",
       "</style>\n",
       "<table border=\"1\" class=\"dataframe\">\n",
       "  <thead>\n",
       "    <tr style=\"text-align: right;\">\n",
       "      <th></th>\n",
       "      <th></th>\n",
       "      <th>IOU</th>\n",
       "      <th>Dice</th>\n",
       "      <th>TPR</th>\n",
       "      <th>TNR</th>\n",
       "      <th>FNBGR_0</th>\n",
       "      <th>FNBGR_1</th>\n",
       "    </tr>\n",
       "  </thead>\n",
       "  <tbody>\n",
       "    <tr>\n",
       "      <th rowspan=\"5\" valign=\"top\">unet_256_aug_ce_2_00</th>\n",
       "      <th>0</th>\n",
       "      <td>0.8345</td>\n",
       "      <td>0.9000</td>\n",
       "      <td>0.9348</td>\n",
       "      <td>0.9795</td>\n",
       "      <td>0.0563</td>\n",
       "      <td>0.1234</td>\n",
       "    </tr>\n",
       "    <tr>\n",
       "      <th>1</th>\n",
       "      <td>0.8335</td>\n",
       "      <td>0.8913</td>\n",
       "      <td>0.8978</td>\n",
       "      <td>0.9869</td>\n",
       "      <td>0.0870</td>\n",
       "      <td>0.1462</td>\n",
       "    </tr>\n",
       "    <tr>\n",
       "      <th>2</th>\n",
       "      <td>0.8111</td>\n",
       "      <td>0.8756</td>\n",
       "      <td>0.8769</td>\n",
       "      <td>0.9859</td>\n",
       "      <td>0.0975</td>\n",
       "      <td>0.2070</td>\n",
       "    </tr>\n",
       "    <tr>\n",
       "      <th>3</th>\n",
       "      <td>0.8323</td>\n",
       "      <td>0.8876</td>\n",
       "      <td>0.8815</td>\n",
       "      <td>0.9896</td>\n",
       "      <td>0.0978</td>\n",
       "      <td>0.1833</td>\n",
       "    </tr>\n",
       "    <tr>\n",
       "      <th>4</th>\n",
       "      <td>0.8435</td>\n",
       "      <td>0.9046</td>\n",
       "      <td>0.8997</td>\n",
       "      <td>0.9883</td>\n",
       "      <td>0.0855</td>\n",
       "      <td>0.2365</td>\n",
       "    </tr>\n",
       "    <tr>\n",
       "      <th>...</th>\n",
       "      <th>...</th>\n",
       "      <td>...</td>\n",
       "      <td>...</td>\n",
       "      <td>...</td>\n",
       "      <td>...</td>\n",
       "      <td>...</td>\n",
       "      <td>...</td>\n",
       "    </tr>\n",
       "    <tr>\n",
       "      <th rowspan=\"5\" valign=\"top\">unetbn_nonaug_iou_3_00</th>\n",
       "      <th>4</th>\n",
       "      <td>0.8899</td>\n",
       "      <td>0.9371</td>\n",
       "      <td>0.9592</td>\n",
       "      <td>0.9949</td>\n",
       "      <td>0.0310</td>\n",
       "      <td>0.1098</td>\n",
       "    </tr>\n",
       "    <tr>\n",
       "      <th>mean</th>\n",
       "      <td>0.7768</td>\n",
       "      <td>0.8349</td>\n",
       "      <td>0.9474</td>\n",
       "      <td>0.9166</td>\n",
       "      <td>0.0393</td>\n",
       "      <td>0.1394</td>\n",
       "    </tr>\n",
       "    <tr>\n",
       "      <th>std</th>\n",
       "      <td>0.2093</td>\n",
       "      <td>0.1937</td>\n",
       "      <td>0.0256</td>\n",
       "      <td>0.1573</td>\n",
       "      <td>0.0184</td>\n",
       "      <td>0.0612</td>\n",
       "    </tr>\n",
       "    <tr>\n",
       "      <th>median</th>\n",
       "      <td>0.8814</td>\n",
       "      <td>0.9321</td>\n",
       "      <td>0.9368</td>\n",
       "      <td>0.9949</td>\n",
       "      <td>0.0478</td>\n",
       "      <td>0.1799</td>\n",
       "    </tr>\n",
       "    <tr>\n",
       "      <th>iqr</th>\n",
       "      <td>0.0171</td>\n",
       "      <td>0.0117</td>\n",
       "      <td>0.0317</td>\n",
       "      <td>0.0008</td>\n",
       "      <td>0.0232</td>\n",
       "      <td>0.0705</td>\n",
       "    </tr>\n",
       "  </tbody>\n",
       "</table>\n",
       "<p>648 rows × 6 columns</p>\n",
       "</div>"
      ],
      "text/plain": [
       "                                  IOU    Dice     TPR     TNR  FNBGR_0  \\\n",
       "unet_256_aug_ce_2_00   0       0.8345  0.9000  0.9348  0.9795   0.0563   \n",
       "                       1       0.8335  0.8913  0.8978  0.9869   0.0870   \n",
       "                       2       0.8111  0.8756  0.8769  0.9859   0.0975   \n",
       "                       3       0.8323  0.8876  0.8815  0.9896   0.0978   \n",
       "                       4       0.8435  0.9046  0.8997  0.9883   0.0855   \n",
       "...                               ...     ...     ...     ...      ...   \n",
       "unetbn_nonaug_iou_3_00 4       0.8899  0.9371  0.9592  0.9949   0.0310   \n",
       "                       mean    0.7768  0.8349  0.9474  0.9166   0.0393   \n",
       "                       std     0.2093  0.1937  0.0256  0.1573   0.0184   \n",
       "                       median  0.8814  0.9321  0.9368  0.9949   0.0478   \n",
       "                       iqr     0.0171  0.0117  0.0317  0.0008   0.0232   \n",
       "\n",
       "                               FNBGR_1  \n",
       "unet_256_aug_ce_2_00   0        0.1234  \n",
       "                       1        0.1462  \n",
       "                       2        0.2070  \n",
       "                       3        0.1833  \n",
       "                       4        0.2365  \n",
       "...                                ...  \n",
       "unetbn_nonaug_iou_3_00 4        0.1098  \n",
       "                       mean     0.1394  \n",
       "                       std      0.0612  \n",
       "                       median   0.1799  \n",
       "                       iqr      0.0705  \n",
       "\n",
       "[648 rows x 6 columns]"
      ]
     },
     "execution_count": 3,
     "metadata": {},
     "output_type": "execute_result"
    }
   ],
   "source": [
    "# Read excel overview\n",
    "eval_dir = os.path.join('..', 'evaluation')\n",
    "df_scores = pd.read_excel(os.path.join(eval_dir, 'scores_overview.xlsx'), index_col=[0,1])\n",
    "df_scores"
   ]
  },
  {
   "cell_type": "code",
   "execution_count": 4,
   "id": "2374621e",
   "metadata": {
    "scrolled": true
   },
   "outputs": [
    {
     "name": "stderr",
     "output_type": "stream",
     "text": [
      "C:\\Users\\Public\\Documents\\Wondershare\\CreatorTemp\\ipykernel_12984\\1056653379.py:10: SettingWithCopyWarning: \n",
      "A value is trying to be set on a copy of a slice from a DataFrame.\n",
      "Try using .loc[row_indexer,col_indexer] = value instead\n",
      "\n",
      "See the caveats in the documentation: https://pandas.pydata.org/pandas-docs/stable/user_guide/indexing.html#returning-a-view-versus-a-copy\n",
      "  df['aug'] = df.index.get_level_values(0).str.split('_').str[-4]\n",
      "C:\\Users\\Public\\Documents\\Wondershare\\CreatorTemp\\ipykernel_12984\\1056653379.py:11: SettingWithCopyWarning: \n",
      "A value is trying to be set on a copy of a slice from a DataFrame.\n",
      "Try using .loc[row_indexer,col_indexer] = value instead\n",
      "\n",
      "See the caveats in the documentation: https://pandas.pydata.org/pandas-docs/stable/user_guide/indexing.html#returning-a-view-versus-a-copy\n",
      "  df['model'] = df.index.get_level_values(0).str.replace(r'_((little|non))?aug', '', regex=True)\n",
      "C:\\Users\\Public\\Documents\\Wondershare\\CreatorTemp\\ipykernel_12984\\1056653379.py:12: SettingWithCopyWarning: \n",
      "A value is trying to be set on a copy of a slice from a DataFrame.\n",
      "Try using .loc[row_indexer,col_indexer] = value instead\n",
      "\n",
      "See the caveats in the documentation: https://pandas.pydata.org/pandas-docs/stable/user_guide/indexing.html#returning-a-view-versus-a-copy\n",
      "  df['model'] = df['model'].replace('_(2|3)_\\d*', '', regex=True)\n",
      "C:\\Users\\Public\\Documents\\Wondershare\\CreatorTemp\\ipykernel_12984\\1056653379.py:10: SettingWithCopyWarning: \n",
      "A value is trying to be set on a copy of a slice from a DataFrame.\n",
      "Try using .loc[row_indexer,col_indexer] = value instead\n",
      "\n",
      "See the caveats in the documentation: https://pandas.pydata.org/pandas-docs/stable/user_guide/indexing.html#returning-a-view-versus-a-copy\n",
      "  df['aug'] = df.index.get_level_values(0).str.split('_').str[-4]\n",
      "C:\\Users\\Public\\Documents\\Wondershare\\CreatorTemp\\ipykernel_12984\\1056653379.py:11: SettingWithCopyWarning: \n",
      "A value is trying to be set on a copy of a slice from a DataFrame.\n",
      "Try using .loc[row_indexer,col_indexer] = value instead\n",
      "\n",
      "See the caveats in the documentation: https://pandas.pydata.org/pandas-docs/stable/user_guide/indexing.html#returning-a-view-versus-a-copy\n",
      "  df['model'] = df.index.get_level_values(0).str.replace(r'_((little|non))?aug', '', regex=True)\n",
      "C:\\Users\\Public\\Documents\\Wondershare\\CreatorTemp\\ipykernel_12984\\1056653379.py:12: SettingWithCopyWarning: \n",
      "A value is trying to be set on a copy of a slice from a DataFrame.\n",
      "Try using .loc[row_indexer,col_indexer] = value instead\n",
      "\n",
      "See the caveats in the documentation: https://pandas.pydata.org/pandas-docs/stable/user_guide/indexing.html#returning-a-view-versus-a-copy\n",
      "  df['model'] = df['model'].replace('_(2|3)_\\d*', '', regex=True)\n",
      "C:\\Users\\Public\\Documents\\Wondershare\\CreatorTemp\\ipykernel_12984\\1056653379.py:10: SettingWithCopyWarning: \n",
      "A value is trying to be set on a copy of a slice from a DataFrame.\n",
      "Try using .loc[row_indexer,col_indexer] = value instead\n",
      "\n",
      "See the caveats in the documentation: https://pandas.pydata.org/pandas-docs/stable/user_guide/indexing.html#returning-a-view-versus-a-copy\n",
      "  df['aug'] = df.index.get_level_values(0).str.split('_').str[-4]\n",
      "C:\\Users\\Public\\Documents\\Wondershare\\CreatorTemp\\ipykernel_12984\\1056653379.py:11: SettingWithCopyWarning: \n",
      "A value is trying to be set on a copy of a slice from a DataFrame.\n",
      "Try using .loc[row_indexer,col_indexer] = value instead\n",
      "\n",
      "See the caveats in the documentation: https://pandas.pydata.org/pandas-docs/stable/user_guide/indexing.html#returning-a-view-versus-a-copy\n",
      "  df['model'] = df.index.get_level_values(0).str.replace(r'_((little|non))?aug', '', regex=True)\n",
      "C:\\Users\\Public\\Documents\\Wondershare\\CreatorTemp\\ipykernel_12984\\1056653379.py:12: SettingWithCopyWarning: \n",
      "A value is trying to be set on a copy of a slice from a DataFrame.\n",
      "Try using .loc[row_indexer,col_indexer] = value instead\n",
      "\n",
      "See the caveats in the documentation: https://pandas.pydata.org/pandas-docs/stable/user_guide/indexing.html#returning-a-view-versus-a-copy\n",
      "  df['model'] = df['model'].replace('_(2|3)_\\d*', '', regex=True)\n",
      "C:\\Users\\Public\\Documents\\Wondershare\\CreatorTemp\\ipykernel_12984\\1056653379.py:10: SettingWithCopyWarning: \n",
      "A value is trying to be set on a copy of a slice from a DataFrame.\n",
      "Try using .loc[row_indexer,col_indexer] = value instead\n",
      "\n",
      "See the caveats in the documentation: https://pandas.pydata.org/pandas-docs/stable/user_guide/indexing.html#returning-a-view-versus-a-copy\n",
      "  df['aug'] = df.index.get_level_values(0).str.split('_').str[-4]\n",
      "C:\\Users\\Public\\Documents\\Wondershare\\CreatorTemp\\ipykernel_12984\\1056653379.py:11: SettingWithCopyWarning: \n",
      "A value is trying to be set on a copy of a slice from a DataFrame.\n",
      "Try using .loc[row_indexer,col_indexer] = value instead\n",
      "\n",
      "See the caveats in the documentation: https://pandas.pydata.org/pandas-docs/stable/user_guide/indexing.html#returning-a-view-versus-a-copy\n",
      "  df['model'] = df.index.get_level_values(0).str.replace(r'_((little|non))?aug', '', regex=True)\n",
      "C:\\Users\\Public\\Documents\\Wondershare\\CreatorTemp\\ipykernel_12984\\1056653379.py:12: SettingWithCopyWarning: \n",
      "A value is trying to be set on a copy of a slice from a DataFrame.\n",
      "Try using .loc[row_indexer,col_indexer] = value instead\n",
      "\n",
      "See the caveats in the documentation: https://pandas.pydata.org/pandas-docs/stable/user_guide/indexing.html#returning-a-view-versus-a-copy\n",
      "  df['model'] = df['model'].replace('_(2|3)_\\d*', '', regex=True)\n"
     ]
    }
   ],
   "source": [
    "# make dict of dataframes separated by tile size and wear_mode\n",
    "scores_dict = {}\n",
    "res = {'scores_512_2':r'^(?!.*256).*_2_',\n",
    "      'scores_256_2':r'256\\w*_2_',\n",
    "      'scores_512_3':r'^(?!.*256).*_3_',\n",
    "      'scores_256_3':r'256\\w*_3_'}\n",
    "\n",
    "for k, v in res.items():\n",
    "    df = df_scores.filter(regex=v, axis=0)\n",
    "    df['aug'] = df.index.get_level_values(0).str.split('_').str[-4]\n",
    "    df['model'] = df.index.get_level_values(0).str.replace(r'_((little|non))?aug', '', regex=True)\n",
    "    df['model'] = df['model'].replace('_(2|3)_\\d*', '', regex=True)\n",
    "    scores_dict[k] = df[df.index.get_level_values(1).isin(range(0,5))]"
   ]
  },
  {
   "cell_type": "code",
   "execution_count": 5,
   "id": "41e23d0e",
   "metadata": {},
   "outputs": [],
   "source": [
    "fig_dir = os.path.join(eval_dir, 'figures')\n",
    "os.makedirs(fig_dir, exist_ok=True)"
   ]
  },
  {
   "cell_type": "code",
   "execution_count": 6,
   "id": "fb7860d3",
   "metadata": {
    "scrolled": false
   },
   "outputs": [
    {
     "data": {
      "image/png": "[encoded data removed]",
      "text/plain": [
       "<Figure size 504x216 with 1 Axes>"
      ]
     },
     "metadata": {
      "needs_background": "light"
     },
     "output_type": "display_data"
    },
    {
     "data": {
      "image/png": "[encoded data removed]",
      "text/plain": [
       "<Figure size 504x216 with 1 Axes>"
      ]
     },
     "metadata": {
      "needs_background": "light"
     },
     "output_type": "display_data"
    },
    {
     "data": {
      "image/png": "[encoded data removed]",
      "text/plain": [
       "<Figure size 504x216 with 1 Axes>"
      ]
     },
     "metadata": {
      "needs_background": "light"
     },
     "output_type": "display_data"
    },
    {
     "data": {
      "image/png": "[encoded data removed]",
      "text/plain": [
       "<Figure size 504x216 with 1 Axes>"
      ]
     },
     "metadata": {
      "needs_background": "light"
     },
     "output_type": "display_data"
    }
   ],
   "source": [
    "score = 'IoU'\n",
    "first = True\n",
    "for model, scores in scores_dict.items():\n",
    "    df = scores.reset_index()\n",
    "    plt.figure(figsize=(7, 3))\n",
    "\n",
    "    ax = sns.boxplot(x='model', y=score.upper(), data=df, hue='aug', palette=\"Set2\")\n",
    "    ax.set_title(model, pad=20)\n",
    "    plt.xlabel('')\n",
    "    new_labels = change_labels(ax.get_xticklabels())\n",
    "    ax.set_xticklabels(new_labels)\n",
    "    plt.ylim([0.7, .95])\n",
    "    plt.ylabel(score)\n",
    "    if first:\n",
    "        handles, _ = ax.get_legend_handles_labels()\n",
    "        plt.legend(title='train data augmentation:', handles=handles, labels=[\"full\", \"moderate\", \"none\"], ncol=3, loc='lower right')\n",
    "        first = False\n",
    "    else:\n",
    "        ax.legend().set_visible(False)\n",
    "    \n",
    "    plt.tight_layout()\n",
    "    plt.savefig(os.path.join(fig_dir, f'boxplots_{model}_{score}.jpg'), dpi=300)\n",
    "    plt.show()"
   ]
  },
  {
   "cell_type": "code",
   "execution_count": null,
   "id": "14446786",
   "metadata": {},
   "outputs": [],
   "source": []
  }
 ],
 "metadata": {
  "kernelspec": {
   "display_name": "env_drilling",
   "language": "python",
   "name": "env_drilling"
  },
  "language_info": {
   "codemirror_mode": {
    "name": "ipython",
    "version": 3
   },
   "file_extension": ".py",
   "mimetype": "text/x-python",
   "name": "python",
   "nbconvert_exporter": "python",
   "pygments_lexer": "ipython3",
   "version": "3.8.12"
  }
 },
 "nbformat": 4,
 "nbformat_minor": 5
}
